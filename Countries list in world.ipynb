{
 "cells": [
  {
   "cell_type": "code",
   "execution_count": 18,
   "metadata": {},
   "outputs": [],
   "source": [
    "import requests"
   ]
  },
  {
   "cell_type": "code",
   "execution_count": 19,
   "metadata": {},
   "outputs": [],
   "source": [
    "page = requests.get(\"https://www.worldometers.info/geography/alphabetical-list-of-countries/\")"
   ]
  },
  {
   "cell_type": "code",
   "execution_count": 20,
   "metadata": {},
   "outputs": [],
   "source": [
    "from bs4 import BeautifulSoup"
   ]
  },
  {
   "cell_type": "code",
   "execution_count": 21,
   "metadata": {},
   "outputs": [],
   "source": [
    "soup = BeautifulSoup(page.content,\"html.parser\")"
   ]
  },
  {
   "cell_type": "code",
   "execution_count": 22,
   "metadata": {},
   "outputs": [],
   "source": [
    "table = soup(class_ = \"table table-hover table-condensed\")"
   ]
  },
  {
   "cell_type": "code",
   "execution_count": 23,
   "metadata": {},
   "outputs": [
    {
     "data": {
      "text/plain": [
       "[<table class=\"table table-hover table-condensed\"><thead> <tr> <th>#</th><th>Country</th><th style=\"text-align:center\">Population<br/>(2020)</th><th style=\"text-align:center\">Land Area<br/> (Km²)</th><th style=\"text-align:center\">Density<br/>(P/Km²)</th> </tr></thead><tbody> <tr> <td>1</td> <td style=\"font-weight: bold; font-size:15px\">Afghanistan</td> <td style=\"font-weight: bold; text-align:right\"><a href=\"/world-population/afghanistan-population/\">38,928,346</a></td> <td style=\"text-align:right\">652,860</td> <td style=\"text-align:right\">60</td> </tr> <tr> <td>2</td> <td style=\"font-weight: bold; font-size:15px\">Albania</td> <td style=\"font-weight: bold; text-align:right\"><a href=\"/world-population/albania-population/\">2,877,797</a></td> <td style=\"text-align:right\">27,400</td> <td style=\"text-align:right\">105</td> </tr> <tr> <td>3</td> <td style=\"font-weight: bold; font-size:15px\">Algeria</td> <td style=\"font-weight: bold; text-align:right\"><a href=\"/world-population/algeria-population/\">43,851,044</a></td> <td style=\"text-align:right\">2,381,740</td> <td style=\"text-align:right\">18</td> </tr> <tr> <td>4</td> <td style=\"font-weight: bold; font-size:15px\">Andorra</td> <td style=\"font-weight: bold; text-align:right\"><a href=\"/world-population/andorra-population/\">77,265</a></td> <td style=\"text-align:right\">470</td> <td style=\"text-align:right\">164</td> </tr> <tr> <td>5</td> <td style=\"font-weight: bold; font-size:15px\">Angola</td> <td style=\"font-weight: bold; text-align:right\"><a href=\"/world-population/angola-population/\">32,866,272</a></td> <td style=\"text-align:right\">1,246,700</td> <td style=\"text-align:right\">26</td> </tr> <tr> <td>6</td> <td style=\"font-weight: bold; font-size:15px\">Antigua and Barbuda</td> <td style=\"font-weight: bold; text-align:right\"><a href=\"/world-population/antigua-and-barbuda-population/\">97,929</a></td> <td style=\"text-align:right\">440</td> <td style=\"text-align:right\">223</td> </tr> <tr> <td>7</td> <td style=\"font-weight: bold; font-size:15px\">Argentina</td> <td style=\"font-weight: bold; text-align:right\"><a href=\"/world-population/argentina-population/\">45,195,774</a></td> <td style=\"text-align:right\">2,736,690</td> <td style=\"text-align:right\">17</td> </tr> <tr> <td>8</td> <td style=\"font-weight: bold; font-size:15px\">Armenia</td> <td style=\"font-weight: bold; text-align:right\"><a href=\"/world-population/armenia-population/\">2,963,243</a></td> <td style=\"text-align:right\">28,470</td> <td style=\"text-align:right\">104</td> </tr> <tr> <td>9</td> <td style=\"font-weight: bold; font-size:15px\">Australia</td> <td style=\"font-weight: bold; text-align:right\"><a href=\"/world-population/australia-population/\">25,499,884</a></td> <td style=\"text-align:right\">7,682,300</td> <td style=\"text-align:right\">3</td> </tr> <tr> <td>10</td> <td style=\"font-weight: bold; font-size:15px\">Austria</td> <td style=\"font-weight: bold; text-align:right\"><a href=\"/world-population/austria-population/\">9,006,398</a></td> <td style=\"text-align:right\">82,409</td> <td style=\"text-align:right\">109</td> </tr> <tr> <td>11</td> <td style=\"font-weight: bold; font-size:15px\">Azerbaijan</td> <td style=\"font-weight: bold; text-align:right\"><a href=\"/world-population/azerbaijan-population/\">10,139,177</a></td> <td style=\"text-align:right\">82,658</td> <td style=\"text-align:right\">123</td> </tr> <tr> <td>12</td> <td style=\"font-weight: bold; font-size:15px\">Bahamas</td> <td style=\"font-weight: bold; text-align:right\"><a href=\"/world-population/bahamas-population/\">393,244</a></td> <td style=\"text-align:right\">10,010</td> <td style=\"text-align:right\">39</td> </tr> <tr> <td>13</td> <td style=\"font-weight: bold; font-size:15px\">Bahrain</td> <td style=\"font-weight: bold; text-align:right\"><a href=\"/world-population/bahrain-population/\">1,701,575</a></td> <td style=\"text-align:right\">760</td> <td style=\"text-align:right\">2,239</td> </tr> <tr> <td>14</td> <td style=\"font-weight: bold; font-size:15px\">Bangladesh</td> <td style=\"font-weight: bold; text-align:right\"><a href=\"/world-population/bangladesh-population/\">164,689,383</a></td> <td style=\"text-align:right\">130,170</td> <td style=\"text-align:right\">1,265</td> </tr> <tr> <td>15</td> <td style=\"font-weight: bold; font-size:15px\">Barbados</td> <td style=\"font-weight: bold; text-align:right\"><a href=\"/world-population/barbados-population/\">287,375</a></td> <td style=\"text-align:right\">430</td> <td style=\"text-align:right\">668</td> </tr> <tr> <td>16</td> <td style=\"font-weight: bold; font-size:15px\">Belarus</td> <td style=\"font-weight: bold; text-align:right\"><a href=\"/world-population/belarus-population/\">9,449,323</a></td> <td style=\"text-align:right\">202,910</td> <td style=\"text-align:right\">47</td> </tr> <tr> <td>17</td> <td style=\"font-weight: bold; font-size:15px\">Belgium</td> <td style=\"font-weight: bold; text-align:right\"><a href=\"/world-population/belgium-population/\">11,589,623</a></td> <td style=\"text-align:right\">30,280</td> <td style=\"text-align:right\">383</td> </tr> <tr> <td>18</td> <td style=\"font-weight: bold; font-size:15px\">Belize</td> <td style=\"font-weight: bold; text-align:right\"><a href=\"/world-population/belize-population/\">397,628</a></td> <td style=\"text-align:right\">22,810</td> <td style=\"text-align:right\">17</td> </tr> <tr> <td>19</td> <td style=\"font-weight: bold; font-size:15px\">Benin</td> <td style=\"font-weight: bold; text-align:right\"><a href=\"/world-population/benin-population/\">12,123,200</a></td> <td style=\"text-align:right\">112,760</td> <td style=\"text-align:right\">108</td> </tr> <tr> <td>20</td> <td style=\"font-weight: bold; font-size:15px\">Bhutan</td> <td style=\"font-weight: bold; text-align:right\"><a href=\"/world-population/bhutan-population/\">771,608</a></td> <td style=\"text-align:right\">38,117</td> <td style=\"text-align:right\">20</td> </tr> <tr> <td>21</td> <td style=\"font-weight: bold; font-size:15px\">Bolivia</td> <td style=\"font-weight: bold; text-align:right\"><a href=\"/world-population/bolivia-population/\">11,673,021</a></td> <td style=\"text-align:right\">1,083,300</td> <td style=\"text-align:right\">11</td> </tr> <tr> <td>22</td> <td style=\"font-weight: bold; font-size:15px\">Bosnia and Herzegovina</td> <td style=\"font-weight: bold; text-align:right\"><a href=\"/world-population/bosnia-and-herzegovina-population/\">3,280,819</a></td> <td style=\"text-align:right\">51,000</td> <td style=\"text-align:right\">64</td> </tr> <tr> <td>23</td> <td style=\"font-weight: bold; font-size:15px\">Botswana</td> <td style=\"font-weight: bold; text-align:right\"><a href=\"/world-population/botswana-population/\">2,351,627</a></td> <td style=\"text-align:right\">566,730</td> <td style=\"text-align:right\">4</td> </tr> <tr> <td>24</td> <td style=\"font-weight: bold; font-size:15px\">Brazil</td> <td style=\"font-weight: bold; text-align:right\"><a href=\"/world-population/brazil-population/\">212,559,417</a></td> <td style=\"text-align:right\">8,358,140</td> <td style=\"text-align:right\">25</td> </tr> <tr> <td>25</td> <td style=\"font-weight: bold; font-size:15px\">Brunei </td> <td style=\"font-weight: bold; text-align:right\"><a href=\"/world-population/brunei-darussalam-population/\">437,479</a></td> <td style=\"text-align:right\">5,270</td> <td style=\"text-align:right\">83</td> </tr> <tr> <td>26</td> <td style=\"font-weight: bold; font-size:15px\">Bulgaria</td> <td style=\"font-weight: bold; text-align:right\"><a href=\"/world-population/bulgaria-population/\">6,948,445</a></td> <td style=\"text-align:right\">108,560</td> <td style=\"text-align:right\">64</td> </tr> <tr> <td>27</td> <td style=\"font-weight: bold; font-size:15px\">Burkina Faso</td> <td style=\"font-weight: bold; text-align:right\"><a href=\"/world-population/burkina-faso-population/\">20,903,273</a></td> <td style=\"text-align:right\">273,600</td> <td style=\"text-align:right\">76</td> </tr> <tr> <td>28</td> <td style=\"font-weight: bold; font-size:15px\">Burundi</td> <td style=\"font-weight: bold; text-align:right\"><a href=\"/world-population/burundi-population/\">11,890,784</a></td> <td style=\"text-align:right\">25,680</td> <td style=\"text-align:right\">463</td> </tr> <tr> <td>29</td> <td style=\"font-weight: bold; font-size:15px\">Côte d'Ivoire</td> <td style=\"font-weight: bold; text-align:right\"><a href=\"/world-population/cote-d-ivoire-population/\">26,378,274</a></td> <td style=\"text-align:right\">318,000</td> <td style=\"text-align:right\">83</td> </tr> <tr> <td>30</td> <td style=\"font-weight: bold; font-size:15px\">Cabo Verde</td> <td style=\"font-weight: bold; text-align:right\"><a href=\"/world-population/cabo-verde-population/\">555,987</a></td> <td style=\"text-align:right\">4,030</td> <td style=\"text-align:right\">138</td> </tr> <tr> <td>31</td> <td style=\"font-weight: bold; font-size:15px\">Cambodia</td> <td style=\"font-weight: bold; text-align:right\"><a href=\"/world-population/cambodia-population/\">16,718,965</a></td> <td style=\"text-align:right\">176,520</td> <td style=\"text-align:right\">95</td> </tr> <tr> <td>32</td> <td style=\"font-weight: bold; font-size:15px\">Cameroon</td> <td style=\"font-weight: bold; text-align:right\"><a href=\"/world-population/cameroon-population/\">26,545,863</a></td> <td style=\"text-align:right\">472,710</td> <td style=\"text-align:right\">56</td> </tr> <tr> <td>33</td> <td style=\"font-weight: bold; font-size:15px\">Canada</td> <td style=\"font-weight: bold; text-align:right\"><a href=\"/world-population/canada-population/\">37,742,154</a></td> <td style=\"text-align:right\">9,093,510</td> <td style=\"text-align:right\">4</td> </tr> <tr> <td>34</td> <td style=\"font-weight: bold; font-size:15px\">Central African Republic</td> <td style=\"font-weight: bold; text-align:right\"><a href=\"/world-population/central-african-republic-population/\">4,829,767</a></td> <td style=\"text-align:right\">622,980</td> <td style=\"text-align:right\">8</td> </tr> <tr> <td>35</td> <td style=\"font-weight: bold; font-size:15px\">Chad</td> <td style=\"font-weight: bold; text-align:right\"><a href=\"/world-population/chad-population/\">16,425,864</a></td> <td style=\"text-align:right\">1,259,200</td> <td style=\"text-align:right\">13</td> </tr> <tr> <td>36</td> <td style=\"font-weight: bold; font-size:15px\">Chile</td> <td style=\"font-weight: bold; text-align:right\"><a href=\"/world-population/chile-population/\">19,116,201</a></td> <td style=\"text-align:right\">743,532</td> <td style=\"text-align:right\">26</td> </tr> <tr> <td>37</td> <td style=\"font-weight: bold; font-size:15px\">China</td> <td style=\"font-weight: bold; text-align:right\"><a href=\"/world-population/china-population/\">1,439,323,776</a></td> <td style=\"text-align:right\">9,388,211</td> <td style=\"text-align:right\">153</td> </tr> <tr> <td>38</td> <td style=\"font-weight: bold; font-size:15px\">Colombia</td> <td style=\"font-weight: bold; text-align:right\"><a href=\"/world-population/colombia-population/\">50,882,891</a></td> <td style=\"text-align:right\">1,109,500</td> <td style=\"text-align:right\">46</td> </tr> <tr> <td>39</td> <td style=\"font-weight: bold; font-size:15px\">Comoros</td> <td style=\"font-weight: bold; text-align:right\"><a href=\"/world-population/comoros-population/\">869,601</a></td> <td style=\"text-align:right\">1,861</td> <td style=\"text-align:right\">467</td> </tr> <tr> <td>40</td> <td style=\"font-weight: bold; font-size:15px\">Congo (Congo-Brazzaville)</td> <td style=\"font-weight: bold; text-align:right\"><a href=\"/world-population/congo-population/\">5,518,087</a></td> <td style=\"text-align:right\">341,500</td> <td style=\"text-align:right\">16</td> </tr> <tr> <td>41</td> <td style=\"font-weight: bold; font-size:15px\">Costa Rica</td> <td style=\"font-weight: bold; text-align:right\"><a href=\"/world-population/costa-rica-population/\">5,094,118</a></td> <td style=\"text-align:right\">51,060</td> <td style=\"text-align:right\">100</td> </tr> <tr> <td>42</td> <td style=\"font-weight: bold; font-size:15px\">Croatia</td> <td style=\"font-weight: bold; text-align:right\"><a href=\"/world-population/croatia-population/\">4,105,267</a></td> <td style=\"text-align:right\">55,960</td> <td style=\"text-align:right\">73</td> </tr> <tr> <td>43</td> <td style=\"font-weight: bold; font-size:15px\">Cuba</td> <td style=\"font-weight: bold; text-align:right\"><a href=\"/world-population/cuba-population/\">11,326,616</a></td> <td style=\"text-align:right\">106,440</td> <td style=\"text-align:right\">106</td> </tr> <tr> <td>44</td> <td style=\"font-weight: bold; font-size:15px\">Cyprus</td> <td style=\"font-weight: bold; text-align:right\"><a href=\"/world-population/cyprus-population/\">1,207,359</a></td> <td style=\"text-align:right\">9,240</td> <td style=\"text-align:right\">131</td> </tr> <tr> <td>45</td> <td style=\"font-weight: bold; font-size:15px\">Czechia (Czech Republic)</td> <td style=\"font-weight: bold; text-align:right\"><a href=\"/world-population/czech-republic-population/\">10,708,981</a></td> <td style=\"text-align:right\">77,240</td> <td style=\"text-align:right\">139</td> </tr> <tr> <td>46</td> <td style=\"font-weight: bold; font-size:15px\">Democratic Republic of the Congo</td> <td style=\"font-weight: bold; text-align:right\"><a href=\"/world-population/democratic-republic-of-the-congo-population/\">89,561,403</a></td> <td style=\"text-align:right\">2,267,050</td> <td style=\"text-align:right\">40</td> </tr> <tr> <td>47</td> <td style=\"font-weight: bold; font-size:15px\">Denmark</td> <td style=\"font-weight: bold; text-align:right\"><a href=\"/world-population/denmark-population/\">5,792,202</a></td> <td style=\"text-align:right\">42,430</td> <td style=\"text-align:right\">137</td> </tr> <tr> <td>48</td> <td style=\"font-weight: bold; font-size:15px\">Djibouti</td> <td style=\"font-weight: bold; text-align:right\"><a href=\"/world-population/djibouti-population/\">988,000</a></td> <td style=\"text-align:right\">23,180</td> <td style=\"text-align:right\">43</td> </tr> <tr> <td>49</td> <td style=\"font-weight: bold; font-size:15px\">Dominica</td> <td style=\"font-weight: bold; text-align:right\"><a href=\"/world-population/dominica-population/\">71,986</a></td> <td style=\"text-align:right\">750</td> <td style=\"text-align:right\">96</td> </tr> <tr> <td>50</td> <td style=\"font-weight: bold; font-size:15px\">Dominican Republic</td> <td style=\"font-weight: bold; text-align:right\"><a href=\"/world-population/dominican-republic-population/\">10,847,910</a></td> <td style=\"text-align:right\">48,320</td> <td style=\"text-align:right\">225</td> </tr> <tr> <td>51</td> <td style=\"font-weight: bold; font-size:15px\">Ecuador</td> <td style=\"font-weight: bold; text-align:right\"><a href=\"/world-population/ecuador-population/\">17,643,054</a></td> <td style=\"text-align:right\">248,360</td> <td style=\"text-align:right\">71</td> </tr> <tr> <td>52</td> <td style=\"font-weight: bold; font-size:15px\">Egypt</td> <td style=\"font-weight: bold; text-align:right\"><a href=\"/world-population/egypt-population/\">102,334,404</a></td> <td style=\"text-align:right\">995,450</td> <td style=\"text-align:right\">103</td> </tr> <tr> <td>53</td> <td style=\"font-weight: bold; font-size:15px\">El Salvador</td> <td style=\"font-weight: bold; text-align:right\"><a href=\"/world-population/el-salvador-population/\">6,486,205</a></td> <td style=\"text-align:right\">20,720</td> <td style=\"text-align:right\">313</td> </tr> <tr> <td>54</td> <td style=\"font-weight: bold; font-size:15px\">Equatorial Guinea</td> <td style=\"font-weight: bold; text-align:right\"><a href=\"/world-population/equatorial-guinea-population/\">1,402,985</a></td> <td style=\"text-align:right\">28,050</td> <td style=\"text-align:right\">50</td> </tr> <tr> <td>55</td> <td style=\"font-weight: bold; font-size:15px\">Eritrea</td> <td style=\"font-weight: bold; text-align:right\"><a href=\"/world-population/eritrea-population/\">3,546,421</a></td> <td style=\"text-align:right\">101,000</td> <td style=\"text-align:right\">35</td> </tr> <tr> <td>56</td> <td style=\"font-weight: bold; font-size:15px\">Estonia</td> <td style=\"font-weight: bold; text-align:right\"><a href=\"/world-population/estonia-population/\">1,326,535</a></td> <td style=\"text-align:right\">42,390</td> <td style=\"text-align:right\">31</td> </tr> <tr> <td>57</td> <td style=\"font-weight: bold; font-size:15px\">Eswatini (fmr. \"Swaziland\")</td> <td style=\"font-weight: bold; text-align:right\"><a href=\"/world-population/swaziland-population/\">1,160,164</a></td> <td style=\"text-align:right\">17,200</td> <td style=\"text-align:right\">67</td> </tr> <tr> <td>58</td> <td style=\"font-weight: bold; font-size:15px\">Ethiopia</td> <td style=\"font-weight: bold; text-align:right\"><a href=\"/world-population/ethiopia-population/\">114,963,588</a></td> <td style=\"text-align:right\">1,000,000</td> <td style=\"text-align:right\">115</td> </tr> <tr> <td>59</td> <td style=\"font-weight: bold; font-size:15px\">Fiji</td> <td style=\"font-weight: bold; text-align:right\"><a href=\"/world-population/fiji-population/\">896,445</a></td> <td style=\"text-align:right\">18,270</td> <td style=\"text-align:right\">49</td> </tr> <tr> <td>60</td> <td style=\"font-weight: bold; font-size:15px\">Finland</td> <td style=\"font-weight: bold; text-align:right\"><a href=\"/world-population/finland-population/\">5,540,720</a></td> <td style=\"text-align:right\">303,890</td> <td style=\"text-align:right\">18</td> </tr> <tr> <td>61</td> <td style=\"font-weight: bold; font-size:15px\">France</td> <td style=\"font-weight: bold; text-align:right\"><a href=\"/world-population/france-population/\">65,273,511</a></td> <td style=\"text-align:right\">547,557</td> <td style=\"text-align:right\">119</td> </tr> <tr> <td>62</td> <td style=\"font-weight: bold; font-size:15px\">Gabon</td> <td style=\"font-weight: bold; text-align:right\"><a href=\"/world-population/gabon-population/\">2,225,734</a></td> <td style=\"text-align:right\">257,670</td> <td style=\"text-align:right\">9</td> </tr> <tr> <td>63</td> <td style=\"font-weight: bold; font-size:15px\">Gambia</td> <td style=\"font-weight: bold; text-align:right\"><a href=\"/world-population/gambia-population/\">2,416,668</a></td> <td style=\"text-align:right\">10,120</td> <td style=\"text-align:right\">239</td> </tr> <tr> <td>64</td> <td style=\"font-weight: bold; font-size:15px\">Georgia</td> <td style=\"font-weight: bold; text-align:right\"><a href=\"/world-population/georgia-population/\">3,989,167</a></td> <td style=\"text-align:right\">69,490</td> <td style=\"text-align:right\">57</td> </tr> <tr> <td>65</td> <td style=\"font-weight: bold; font-size:15px\">Germany</td> <td style=\"font-weight: bold; text-align:right\"><a href=\"/world-population/germany-population/\">83,783,942</a></td> <td style=\"text-align:right\">348,560</td> <td style=\"text-align:right\">240</td> </tr> <tr> <td>66</td> <td style=\"font-weight: bold; font-size:15px\">Ghana</td> <td style=\"font-weight: bold; text-align:right\"><a href=\"/world-population/ghana-population/\">31,072,940</a></td> <td style=\"text-align:right\">227,540</td> <td style=\"text-align:right\">137</td> </tr> <tr> <td>67</td> <td style=\"font-weight: bold; font-size:15px\">Greece</td> <td style=\"font-weight: bold; text-align:right\"><a href=\"/world-population/greece-population/\">10,423,054</a></td> <td style=\"text-align:right\">128,900</td> <td style=\"text-align:right\">81</td> </tr> <tr> <td>68</td> <td style=\"font-weight: bold; font-size:15px\">Grenada</td> <td style=\"font-weight: bold; text-align:right\"><a href=\"/world-population/grenada-population/\">112,523</a></td> <td style=\"text-align:right\">340</td> <td style=\"text-align:right\">331</td> </tr> <tr> <td>69</td> <td style=\"font-weight: bold; font-size:15px\">Guatemala</td> <td style=\"font-weight: bold; text-align:right\"><a href=\"/world-population/guatemala-population/\">17,915,568</a></td> <td style=\"text-align:right\">107,160</td> <td style=\"text-align:right\">167</td> </tr> <tr> <td>70</td> <td style=\"font-weight: bold; font-size:15px\">Guinea</td> <td style=\"font-weight: bold; text-align:right\"><a href=\"/world-population/guinea-population/\">13,132,795</a></td> <td style=\"text-align:right\">245,720</td> <td style=\"text-align:right\">53</td> </tr> <tr> <td>71</td> <td style=\"font-weight: bold; font-size:15px\">Guinea-Bissau</td> <td style=\"font-weight: bold; text-align:right\"><a href=\"/world-population/guinea-bissau-population/\">1,968,001</a></td> <td style=\"text-align:right\">28,120</td> <td style=\"text-align:right\">70</td> </tr> <tr> <td>72</td> <td style=\"font-weight: bold; font-size:15px\">Guyana</td> <td style=\"font-weight: bold; text-align:right\"><a href=\"/world-population/guyana-population/\">786,552</a></td> <td style=\"text-align:right\">196,850</td> <td style=\"text-align:right\">4</td> </tr> <tr> <td>73</td> <td style=\"font-weight: bold; font-size:15px\">Haiti</td> <td style=\"font-weight: bold; text-align:right\"><a href=\"/world-population/haiti-population/\">11,402,528</a></td> <td style=\"text-align:right\">27,560</td> <td style=\"text-align:right\">414</td> </tr> <tr> <td>74</td> <td style=\"font-weight: bold; font-size:15px\">Holy See</td> <td style=\"font-weight: bold; text-align:right\"><a href=\"/world-population/holy-see-population/\">801</a></td> <td style=\"text-align:right\">0</td> <td style=\"text-align:right\">2,003</td> </tr> <tr> <td>75</td> <td style=\"font-weight: bold; font-size:15px\">Honduras</td> <td style=\"font-weight: bold; text-align:right\"><a href=\"/world-population/honduras-population/\">9,904,607</a></td> <td style=\"text-align:right\">111,890</td> <td style=\"text-align:right\">89</td> </tr> <tr> <td>76</td> <td style=\"font-weight: bold; font-size:15px\">Hungary</td> <td style=\"font-weight: bold; text-align:right\"><a href=\"/world-population/hungary-population/\">9,660,351</a></td> <td style=\"text-align:right\">90,530</td> <td style=\"text-align:right\">107</td> </tr> <tr> <td>77</td> <td style=\"font-weight: bold; font-size:15px\">Iceland</td> <td style=\"font-weight: bold; text-align:right\"><a href=\"/world-population/iceland-population/\">341,243</a></td> <td style=\"text-align:right\">100,250</td> <td style=\"text-align:right\">3</td> </tr> <tr> <td>78</td> <td style=\"font-weight: bold; font-size:15px\">India</td> <td style=\"font-weight: bold; text-align:right\"><a href=\"/world-population/india-population/\">1,380,004,385</a></td> <td style=\"text-align:right\">2,973,190</td> <td style=\"text-align:right\">464</td> </tr> <tr> <td>79</td> <td style=\"font-weight: bold; font-size:15px\">Indonesia</td> <td style=\"font-weight: bold; text-align:right\"><a href=\"/world-population/indonesia-population/\">273,523,615</a></td> <td style=\"text-align:right\">1,811,570</td> <td style=\"text-align:right\">151</td> </tr> <tr> <td>80</td> <td style=\"font-weight: bold; font-size:15px\">Iran</td> <td style=\"font-weight: bold; text-align:right\"><a href=\"/world-population/iran-population/\">83,992,949</a></td> <td style=\"text-align:right\">1,628,550</td> <td style=\"text-align:right\">52</td> </tr> <tr> <td>81</td> <td style=\"font-weight: bold; font-size:15px\">Iraq</td> <td style=\"font-weight: bold; text-align:right\"><a href=\"/world-population/iraq-population/\">40,222,493</a></td> <td style=\"text-align:right\">434,320</td> <td style=\"text-align:right\">93</td> </tr> <tr> <td>82</td> <td style=\"font-weight: bold; font-size:15px\">Ireland</td> <td style=\"font-weight: bold; text-align:right\"><a href=\"/world-population/ireland-population/\">4,937,786</a></td> <td style=\"text-align:right\">68,890</td> <td style=\"text-align:right\">72</td> </tr> <tr> <td>83</td> <td style=\"font-weight: bold; font-size:15px\">Israel</td> <td style=\"font-weight: bold; text-align:right\"><a href=\"/world-population/israel-population/\">8,655,535</a></td> <td style=\"text-align:right\">21,640</td> <td style=\"text-align:right\">400</td> </tr> <tr> <td>84</td> <td style=\"font-weight: bold; font-size:15px\">Italy</td> <td style=\"font-weight: bold; text-align:right\"><a href=\"/world-population/italy-population/\">60,461,826</a></td> <td style=\"text-align:right\">294,140</td> <td style=\"text-align:right\">206</td> </tr> <tr> <td>85</td> <td style=\"font-weight: bold; font-size:15px\">Jamaica</td> <td style=\"font-weight: bold; text-align:right\"><a href=\"/world-population/jamaica-population/\">2,961,167</a></td> <td style=\"text-align:right\">10,830</td> <td style=\"text-align:right\">273</td> </tr> <tr> <td>86</td> <td style=\"font-weight: bold; font-size:15px\">Japan</td> <td style=\"font-weight: bold; text-align:right\"><a href=\"/world-population/japan-population/\">126,476,461</a></td> <td style=\"text-align:right\">364,555</td> <td style=\"text-align:right\">347</td> </tr> <tr> <td>87</td> <td style=\"font-weight: bold; font-size:15px\">Jordan</td> <td style=\"font-weight: bold; text-align:right\"><a href=\"/world-population/jordan-population/\">10,203,134</a></td> <td style=\"text-align:right\">88,780</td> <td style=\"text-align:right\">115</td> </tr> <tr> <td>88</td> <td style=\"font-weight: bold; font-size:15px\">Kazakhstan</td> <td style=\"font-weight: bold; text-align:right\"><a href=\"/world-population/kazakhstan-population/\">18,776,707</a></td> <td style=\"text-align:right\">2,699,700</td> <td style=\"text-align:right\">7</td> </tr> <tr> <td>89</td> <td style=\"font-weight: bold; font-size:15px\">Kenya</td> <td style=\"font-weight: bold; text-align:right\"><a href=\"/world-population/kenya-population/\">53,771,296</a></td> <td style=\"text-align:right\">569,140</td> <td style=\"text-align:right\">94</td> </tr> <tr> <td>90</td> <td style=\"font-weight: bold; font-size:15px\">Kiribati</td> <td style=\"font-weight: bold; text-align:right\"><a href=\"/world-population/kiribati-population/\">119,449</a></td> <td style=\"text-align:right\">810</td> <td style=\"text-align:right\">147</td> </tr> <tr> <td>91</td> <td style=\"font-weight: bold; font-size:15px\">Kuwait</td> <td style=\"font-weight: bold; text-align:right\"><a href=\"/world-population/kuwait-population/\">4,270,571</a></td> <td style=\"text-align:right\">17,820</td> <td style=\"text-align:right\">240</td> </tr> <tr> <td>92</td> <td style=\"font-weight: bold; font-size:15px\">Kyrgyzstan</td> <td style=\"font-weight: bold; text-align:right\"><a href=\"/world-population/kyrgyzstan-population/\">6,524,195</a></td> <td style=\"text-align:right\">191,800</td> <td style=\"text-align:right\">34</td> </tr> <tr> <td>93</td> <td style=\"font-weight: bold; font-size:15px\">Laos</td> <td style=\"font-weight: bold; text-align:right\"><a href=\"/world-population/laos-population/\">7,275,560</a></td> <td style=\"text-align:right\">230,800</td> <td style=\"text-align:right\">32</td> </tr> <tr> <td>94</td> <td style=\"font-weight: bold; font-size:15px\">Latvia</td> <td style=\"font-weight: bold; text-align:right\"><a href=\"/world-population/latvia-population/\">1,886,198</a></td> <td style=\"text-align:right\">62,200</td> <td style=\"text-align:right\">30</td> </tr> <tr> <td>95</td> <td style=\"font-weight: bold; font-size:15px\">Lebanon</td> <td style=\"font-weight: bold; text-align:right\"><a href=\"/world-population/lebanon-population/\">6,825,445</a></td> <td style=\"text-align:right\">10,230</td> <td style=\"text-align:right\">667</td> </tr> <tr> <td>96</td> <td style=\"font-weight: bold; font-size:15px\">Lesotho</td> <td style=\"font-weight: bold; text-align:right\"><a href=\"/world-population/lesotho-population/\">2,142,249</a></td> <td style=\"text-align:right\">30,360</td> <td style=\"text-align:right\">71</td> </tr> <tr> <td>97</td> <td style=\"font-weight: bold; font-size:15px\">Liberia</td> <td style=\"font-weight: bold; text-align:right\"><a href=\"/world-population/liberia-population/\">5,057,681</a></td> <td style=\"text-align:right\">96,320</td> <td style=\"text-align:right\">53</td> </tr> <tr> <td>98</td> <td style=\"font-weight: bold; font-size:15px\">Libya</td> <td style=\"font-weight: bold; text-align:right\"><a href=\"/world-population/libya-population/\">6,871,292</a></td> <td style=\"text-align:right\">1,759,540</td> <td style=\"text-align:right\">4</td> </tr> <tr> <td>99</td> <td style=\"font-weight: bold; font-size:15px\">Liechtenstein</td> <td style=\"font-weight: bold; text-align:right\"><a href=\"/world-population/liechtenstein-population/\">38,128</a></td> <td style=\"text-align:right\">160</td> <td style=\"text-align:right\">238</td> </tr> <tr> <td>100</td> <td style=\"font-weight: bold; font-size:15px\">Lithuania</td> <td style=\"font-weight: bold; text-align:right\"><a href=\"/world-population/lithuania-population/\">2,722,289</a></td> <td style=\"text-align:right\">62,674</td> <td style=\"text-align:right\">43</td> </tr> <tr> <td>101</td> <td style=\"font-weight: bold; font-size:15px\">Luxembourg</td> <td style=\"font-weight: bold; text-align:right\"><a href=\"/world-population/luxembourg-population/\">625,978</a></td> <td style=\"text-align:right\">2,590</td> <td style=\"text-align:right\">242</td> </tr> <tr> <td>102</td> <td style=\"font-weight: bold; font-size:15px\">Madagascar</td> <td style=\"font-weight: bold; text-align:right\"><a href=\"/world-population/madagascar-population/\">27,691,018</a></td> <td style=\"text-align:right\">581,795</td> <td style=\"text-align:right\">48</td> </tr> <tr> <td>103</td> <td style=\"font-weight: bold; font-size:15px\">Malawi</td> <td style=\"font-weight: bold; text-align:right\"><a href=\"/world-population/malawi-population/\">19,129,952</a></td> <td style=\"text-align:right\">94,280</td> <td style=\"text-align:right\">203</td> </tr> <tr> <td>104</td> <td style=\"font-weight: bold; font-size:15px\">Malaysia</td> <td style=\"font-weight: bold; text-align:right\"><a href=\"/world-population/malaysia-population/\">32,365,999</a></td> <td style=\"text-align:right\">328,550</td> <td style=\"text-align:right\">99</td> </tr> <tr> <td>105</td> <td style=\"font-weight: bold; font-size:15px\">Maldives</td> <td style=\"font-weight: bold; text-align:right\"><a href=\"/world-population/maldives-population/\">540,544</a></td> <td style=\"text-align:right\">300</td> <td style=\"text-align:right\">1,802</td> </tr> <tr> <td>106</td> <td style=\"font-weight: bold; font-size:15px\">Mali</td> <td style=\"font-weight: bold; text-align:right\"><a href=\"/world-population/mali-population/\">20,250,833</a></td> <td style=\"text-align:right\">1,220,190</td> <td style=\"text-align:right\">17</td> </tr> <tr> <td>107</td> <td style=\"font-weight: bold; font-size:15px\">Malta</td> <td style=\"font-weight: bold; text-align:right\"><a href=\"/world-population/malta-population/\">441,543</a></td> <td style=\"text-align:right\">320</td> <td style=\"text-align:right\">1,380</td> </tr> <tr> <td>108</td> <td style=\"font-weight: bold; font-size:15px\">Marshall Islands</td> <td style=\"font-weight: bold; text-align:right\"><a href=\"/world-population/marshall-islands-population/\">59,190</a></td> <td style=\"text-align:right\">180</td> <td style=\"text-align:right\">329</td> </tr> <tr> <td>109</td> <td style=\"font-weight: bold; font-size:15px\">Mauritania</td> <td style=\"font-weight: bold; text-align:right\"><a href=\"/world-population/mauritania-population/\">4,649,658</a></td> <td style=\"text-align:right\">1,030,700</td> <td style=\"text-align:right\">5</td> </tr> <tr> <td>110</td> <td style=\"font-weight: bold; font-size:15px\">Mauritius</td> <td style=\"font-weight: bold; text-align:right\"><a href=\"/world-population/mauritius-population/\">1,271,768</a></td> <td style=\"text-align:right\">2,030</td> <td style=\"text-align:right\">626</td> </tr> <tr> <td>111</td> <td style=\"font-weight: bold; font-size:15px\">Mexico</td> <td style=\"font-weight: bold; text-align:right\"><a href=\"/world-population/mexico-population/\">128,932,753</a></td> <td style=\"text-align:right\">1,943,950</td> <td style=\"text-align:right\">66</td> </tr> <tr> <td>112</td> <td style=\"font-weight: bold; font-size:15px\">Micronesia</td> <td style=\"font-weight: bold; text-align:right\"><a href=\"/world-population/micronesia-population/\">548,914</a></td> <td style=\"text-align:right\">700</td> <td style=\"text-align:right\">784</td> </tr> <tr> <td>113</td> <td style=\"font-weight: bold; font-size:15px\">Moldova</td> <td style=\"font-weight: bold; text-align:right\"><a href=\"/world-population/moldova-population/\">4,033,963</a></td> <td style=\"text-align:right\">32,850</td> <td style=\"text-align:right\">123</td> </tr> <tr> <td>114</td> <td style=\"font-weight: bold; font-size:15px\">Monaco</td> <td style=\"font-weight: bold; text-align:right\"><a href=\"/world-population/monaco-population/\">39,242</a></td> <td style=\"text-align:right\">1</td> <td style=\"text-align:right\">26,337</td> </tr> <tr> <td>115</td> <td style=\"font-weight: bold; font-size:15px\">Mongolia</td> <td style=\"font-weight: bold; text-align:right\"><a href=\"/world-population/mongolia-population/\">3,278,290</a></td> <td style=\"text-align:right\">1,553,560</td> <td style=\"text-align:right\">2</td> </tr> <tr> <td>116</td> <td style=\"font-weight: bold; font-size:15px\">Montenegro</td> <td style=\"font-weight: bold; text-align:right\"><a href=\"/world-population/montenegro-population/\">628,066</a></td> <td style=\"text-align:right\">13,450</td> <td style=\"text-align:right\">47</td> </tr> <tr> <td>117</td> <td style=\"font-weight: bold; font-size:15px\">Morocco</td> <td style=\"font-weight: bold; text-align:right\"><a href=\"/world-population/morocco-population/\">36,910,560</a></td> <td style=\"text-align:right\">446,300</td> <td style=\"text-align:right\">83</td> </tr> <tr> <td>118</td> <td style=\"font-weight: bold; font-size:15px\">Mozambique</td> <td style=\"font-weight: bold; text-align:right\"><a href=\"/world-population/mozambique-population/\">31,255,435</a></td> <td style=\"text-align:right\">786,380</td> <td style=\"text-align:right\">40</td> </tr> <tr> <td>119</td> <td style=\"font-weight: bold; font-size:15px\">Myanmar (formerly Burma)</td> <td style=\"font-weight: bold; text-align:right\"><a href=\"/world-population/myanmar-population/\">54,409,800</a></td> <td style=\"text-align:right\">653,290</td> <td style=\"text-align:right\">83</td> </tr> <tr> <td>120</td> <td style=\"font-weight: bold; font-size:15px\">Namibia</td> <td style=\"font-weight: bold; text-align:right\"><a href=\"/world-population/namibia-population/\">2,540,905</a></td> <td style=\"text-align:right\">823,290</td> <td style=\"text-align:right\">3</td> </tr> <tr> <td>121</td> <td style=\"font-weight: bold; font-size:15px\">Nauru</td> <td style=\"font-weight: bold; text-align:right\"><a href=\"/world-population/nauru-population/\">10,824</a></td> <td style=\"text-align:right\">20</td> <td style=\"text-align:right\">541</td> </tr> <tr> <td>122</td> <td style=\"font-weight: bold; font-size:15px\">Nepal</td> <td style=\"font-weight: bold; text-align:right\"><a href=\"/world-population/nepal-population/\">29,136,808</a></td> <td style=\"text-align:right\">143,350</td> <td style=\"text-align:right\">203</td> </tr> <tr> <td>123</td> <td style=\"font-weight: bold; font-size:15px\">Netherlands</td> <td style=\"font-weight: bold; text-align:right\"><a href=\"/world-population/netherlands-population/\">17,134,872</a></td> <td style=\"text-align:right\">33,720</td> <td style=\"text-align:right\">508</td> </tr> <tr> <td>124</td> <td style=\"font-weight: bold; font-size:15px\">New Zealand</td> <td style=\"font-weight: bold; text-align:right\"><a href=\"/world-population/new-zealand-population/\">4,822,233</a></td> <td style=\"text-align:right\">263,310</td> <td style=\"text-align:right\">18</td> </tr> <tr> <td>125</td> <td style=\"font-weight: bold; font-size:15px\">Nicaragua</td> <td style=\"font-weight: bold; text-align:right\"><a href=\"/world-population/nicaragua-population/\">6,624,554</a></td> <td style=\"text-align:right\">120,340</td> <td style=\"text-align:right\">55</td> </tr> <tr> <td>126</td> <td style=\"font-weight: bold; font-size:15px\">Niger</td> <td style=\"font-weight: bold; text-align:right\"><a href=\"/world-population/niger-population/\">24,206,644</a></td> <td style=\"text-align:right\">1,266,700</td> <td style=\"text-align:right\">19</td> </tr> <tr> <td>127</td> <td style=\"font-weight: bold; font-size:15px\">Nigeria</td> <td style=\"font-weight: bold; text-align:right\"><a href=\"/world-population/nigeria-population/\">206,139,589</a></td> <td style=\"text-align:right\">910,770</td> <td style=\"text-align:right\">226</td> </tr> <tr> <td>128</td> <td style=\"font-weight: bold; font-size:15px\">North Korea</td> <td style=\"font-weight: bold; text-align:right\"><a href=\"/world-population/north-korea-population/\">25,778,816</a></td> <td style=\"text-align:right\">120,410</td> <td style=\"text-align:right\">214</td> </tr> <tr> <td>129</td> <td style=\"font-weight: bold; font-size:15px\">North Macedonia</td> <td style=\"font-weight: bold; text-align:right\"><a href=\"/world-population/macedonia-population/\">2,083,374</a></td> <td style=\"text-align:right\">25,220</td> <td style=\"text-align:right\">83</td> </tr> <tr> <td>130</td> <td style=\"font-weight: bold; font-size:15px\">Norway</td> <td style=\"font-weight: bold; text-align:right\"><a href=\"/world-population/norway-population/\">5,421,241</a></td> <td style=\"text-align:right\">365,268</td> <td style=\"text-align:right\">15</td> </tr> <tr> <td>131</td> <td style=\"font-weight: bold; font-size:15px\">Oman</td> <td style=\"font-weight: bold; text-align:right\"><a href=\"/world-population/oman-population/\">5,106,626</a></td> <td style=\"text-align:right\">309,500</td> <td style=\"text-align:right\">16</td> </tr> <tr> <td>132</td> <td style=\"font-weight: bold; font-size:15px\">Pakistan</td> <td style=\"font-weight: bold; text-align:right\"><a href=\"/world-population/pakistan-population/\">220,892,340</a></td> <td style=\"text-align:right\">770,880</td> <td style=\"text-align:right\">287</td> </tr> <tr> <td>133</td> <td style=\"font-weight: bold; font-size:15px\">Palau</td> <td style=\"font-weight: bold; text-align:right\"><a href=\"/world-population/palau-population/\">18,094</a></td> <td style=\"text-align:right\">460</td> <td style=\"text-align:right\">39</td> </tr> <tr> <td>134</td> <td style=\"font-weight: bold; font-size:15px\">Palestine State</td> <td style=\"font-weight: bold; text-align:right\"><a href=\"/world-population/state-of-palestine-population/\">5,101,414</a></td> <td style=\"text-align:right\">6,020</td> <td style=\"text-align:right\">847</td> </tr> <tr> <td>135</td> <td style=\"font-weight: bold; font-size:15px\">Panama</td> <td style=\"font-weight: bold; text-align:right\"><a href=\"/world-population/panama-population/\">4,314,767</a></td> <td style=\"text-align:right\">74,340</td> <td style=\"text-align:right\">58</td> </tr> <tr> <td>136</td> <td style=\"font-weight: bold; font-size:15px\">Papua New Guinea</td> <td style=\"font-weight: bold; text-align:right\"><a href=\"/world-population/papua-new-guinea-population/\">8,947,024</a></td> <td style=\"text-align:right\">452,860</td> <td style=\"text-align:right\">20</td> </tr> <tr> <td>137</td> <td style=\"font-weight: bold; font-size:15px\">Paraguay</td> <td style=\"font-weight: bold; text-align:right\"><a href=\"/world-population/paraguay-population/\">7,132,538</a></td> <td style=\"text-align:right\">397,300</td> <td style=\"text-align:right\">18</td> </tr> <tr> <td>138</td> <td style=\"font-weight: bold; font-size:15px\">Peru</td> <td style=\"font-weight: bold; text-align:right\"><a href=\"/world-population/peru-population/\">32,971,854</a></td> <td style=\"text-align:right\">1,280,000</td> <td style=\"text-align:right\">26</td> </tr> <tr> <td>139</td> <td style=\"font-weight: bold; font-size:15px\">Philippines</td> <td style=\"font-weight: bold; text-align:right\"><a href=\"/world-population/philippines-population/\">109,581,078</a></td> <td style=\"text-align:right\">298,170</td> <td style=\"text-align:right\">368</td> </tr> <tr> <td>140</td> <td style=\"font-weight: bold; font-size:15px\">Poland</td> <td style=\"font-weight: bold; text-align:right\"><a href=\"/world-population/poland-population/\">37,846,611</a></td> <td style=\"text-align:right\">306,230</td> <td style=\"text-align:right\">124</td> </tr> <tr> <td>141</td> <td style=\"font-weight: bold; font-size:15px\">Portugal</td> <td style=\"font-weight: bold; text-align:right\"><a href=\"/world-population/portugal-population/\">10,196,709</a></td> <td style=\"text-align:right\">91,590</td> <td style=\"text-align:right\">111</td> </tr> <tr> <td>142</td> <td style=\"font-weight: bold; font-size:15px\">Qatar</td> <td style=\"font-weight: bold; text-align:right\"><a href=\"/world-population/qatar-population/\">2,881,053</a></td> <td style=\"text-align:right\">11,610</td> <td style=\"text-align:right\">248</td> </tr> <tr> <td>143</td> <td style=\"font-weight: bold; font-size:15px\">Romania</td> <td style=\"font-weight: bold; text-align:right\"><a href=\"/world-population/romania-population/\">19,237,691</a></td> <td style=\"text-align:right\">230,170</td> <td style=\"text-align:right\">84</td> </tr> <tr> <td>144</td> <td style=\"font-weight: bold; font-size:15px\">Russia</td> <td style=\"font-weight: bold; text-align:right\"><a href=\"/world-population/russia-population/\">145,934,462</a></td> <td style=\"text-align:right\">16,376,870</td> <td style=\"text-align:right\">9</td> </tr> <tr> <td>145</td> <td style=\"font-weight: bold; font-size:15px\">Rwanda</td> <td style=\"font-weight: bold; text-align:right\"><a href=\"/world-population/rwanda-population/\">12,952,218</a></td> <td style=\"text-align:right\">24,670</td> <td style=\"text-align:right\">525</td> </tr> <tr> <td>146</td> <td style=\"font-weight: bold; font-size:15px\">Saint Kitts and Nevis</td> <td style=\"font-weight: bold; text-align:right\"><a href=\"/world-population/saint-kitts-and-nevis-population/\">53,199</a></td> <td style=\"text-align:right\">260</td> <td style=\"text-align:right\">205</td> </tr> <tr> <td>147</td> <td style=\"font-weight: bold; font-size:15px\">Saint Lucia</td> <td style=\"font-weight: bold; text-align:right\"><a href=\"/world-population/saint-lucia-population/\">183,627</a></td> <td style=\"text-align:right\">610</td> <td style=\"text-align:right\">301</td> </tr> <tr> <td>148</td> <td style=\"font-weight: bold; font-size:15px\">Saint Vincent and the Grenadines</td> <td style=\"font-weight: bold; text-align:right\"><a href=\"/world-population/saint-vincent-and-the-grenadines-population/\">110,940</a></td> <td style=\"text-align:right\">390</td> <td style=\"text-align:right\">284</td> </tr> <tr> <td>149</td> <td style=\"font-weight: bold; font-size:15px\">Samoa</td> <td style=\"font-weight: bold; text-align:right\"><a href=\"/world-population/samoa-population/\">198,414</a></td> <td style=\"text-align:right\">2,830</td> <td style=\"text-align:right\">70</td> </tr> <tr> <td>150</td> <td style=\"font-weight: bold; font-size:15px\">San Marino</td> <td style=\"font-weight: bold; text-align:right\"><a href=\"/world-population/san-marino-population/\">33,931</a></td> <td style=\"text-align:right\">60</td> <td style=\"text-align:right\">566</td> </tr> <tr> <td>151</td> <td style=\"font-weight: bold; font-size:15px\">Sao Tome and Principe</td> <td style=\"font-weight: bold; text-align:right\"><a href=\"/world-population/sao-tome-and-principe-population/\">219,159</a></td> <td style=\"text-align:right\">960</td> <td style=\"text-align:right\">228</td> </tr> <tr> <td>152</td> <td style=\"font-weight: bold; font-size:15px\">Saudi Arabia</td> <td style=\"font-weight: bold; text-align:right\"><a href=\"/world-population/saudi-arabia-population/\">34,813,871</a></td> <td style=\"text-align:right\">2,149,690</td> <td style=\"text-align:right\">16</td> </tr> <tr> <td>153</td> <td style=\"font-weight: bold; font-size:15px\">Senegal</td> <td style=\"font-weight: bold; text-align:right\"><a href=\"/world-population/senegal-population/\">16,743,927</a></td> <td style=\"text-align:right\">192,530</td> <td style=\"text-align:right\">87</td> </tr> <tr> <td>154</td> <td style=\"font-weight: bold; font-size:15px\">Serbia</td> <td style=\"font-weight: bold; text-align:right\"><a href=\"/world-population/serbia-population/\">8,737,371</a></td> <td style=\"text-align:right\">87,460</td> <td style=\"text-align:right\">100</td> </tr> <tr> <td>155</td> <td style=\"font-weight: bold; font-size:15px\">Seychelles</td> <td style=\"font-weight: bold; text-align:right\"><a href=\"/world-population/seychelles-population/\">98,347</a></td> <td style=\"text-align:right\">460</td> <td style=\"text-align:right\">214</td> </tr> <tr> <td>156</td> <td style=\"font-weight: bold; font-size:15px\">Sierra Leone</td> <td style=\"font-weight: bold; text-align:right\"><a href=\"/world-population/sierra-leone-population/\">7,976,983</a></td> <td style=\"text-align:right\">72,180</td> <td style=\"text-align:right\">111</td> </tr> <tr> <td>157</td> <td style=\"font-weight: bold; font-size:15px\">Singapore</td> <td style=\"font-weight: bold; text-align:right\"><a href=\"/world-population/singapore-population/\">5,850,342</a></td> <td style=\"text-align:right\">700</td> <td style=\"text-align:right\">8,358</td> </tr> <tr> <td>158</td> <td style=\"font-weight: bold; font-size:15px\">Slovakia</td> <td style=\"font-weight: bold; text-align:right\"><a href=\"/world-population/slovakia-population/\">5,459,642</a></td> <td style=\"text-align:right\">48,088</td> <td style=\"text-align:right\">114</td> </tr> <tr> <td>159</td> <td style=\"font-weight: bold; font-size:15px\">Slovenia</td> <td style=\"font-weight: bold; text-align:right\"><a href=\"/world-population/slovenia-population/\">2,078,938</a></td> <td style=\"text-align:right\">20,140</td> <td style=\"text-align:right\">103</td> </tr> <tr> <td>160</td> <td style=\"font-weight: bold; font-size:15px\">Solomon Islands</td> <td style=\"font-weight: bold; text-align:right\"><a href=\"/world-population/solomon-islands-population/\">686,884</a></td> <td style=\"text-align:right\">27,990</td> <td style=\"text-align:right\">25</td> </tr> <tr> <td>161</td> <td style=\"font-weight: bold; font-size:15px\">Somalia</td> <td style=\"font-weight: bold; text-align:right\"><a href=\"/world-population/somalia-population/\">15,893,222</a></td> <td style=\"text-align:right\">627,340</td> <td style=\"text-align:right\">25</td> </tr> <tr> <td>162</td> <td style=\"font-weight: bold; font-size:15px\">South Africa</td> <td style=\"font-weight: bold; text-align:right\"><a href=\"/world-population/south-africa-population/\">59,308,690</a></td> <td style=\"text-align:right\">1,213,090</td> <td style=\"text-align:right\">49</td> </tr> <tr> <td>163</td> <td style=\"font-weight: bold; font-size:15px\">South Korea</td> <td style=\"font-weight: bold; text-align:right\"><a href=\"/world-population/south-korea-population/\">51,269,185</a></td> <td style=\"text-align:right\">97,230</td> <td style=\"text-align:right\">527</td> </tr> <tr> <td>164</td> <td style=\"font-weight: bold; font-size:15px\">South Sudan</td> <td style=\"font-weight: bold; text-align:right\"><a href=\"/world-population/south-sudan-population/\">11,193,725</a></td> <td style=\"text-align:right\">610,952</td> <td style=\"text-align:right\">18</td> </tr> <tr> <td>165</td> <td style=\"font-weight: bold; font-size:15px\">Spain</td> <td style=\"font-weight: bold; text-align:right\"><a href=\"/world-population/spain-population/\">46,754,778</a></td> <td style=\"text-align:right\">498,800</td> <td style=\"text-align:right\">94</td> </tr> <tr> <td>166</td> <td style=\"font-weight: bold; font-size:15px\">Sri Lanka</td> <td style=\"font-weight: bold; text-align:right\"><a href=\"/world-population/sri-lanka-population/\">21,413,249</a></td> <td style=\"text-align:right\">62,710</td> <td style=\"text-align:right\">341</td> </tr> <tr> <td>167</td> <td style=\"font-weight: bold; font-size:15px\">Sudan</td> <td style=\"font-weight: bold; text-align:right\"><a href=\"/world-population/sudan-population/\">43,849,260</a></td> <td style=\"text-align:right\">1,765,048</td> <td style=\"text-align:right\">25</td> </tr> <tr> <td>168</td> <td style=\"font-weight: bold; font-size:15px\">Suriname</td> <td style=\"font-weight: bold; text-align:right\"><a href=\"/world-population/suriname-population/\">586,632</a></td> <td style=\"text-align:right\">156,000</td> <td style=\"text-align:right\">4</td> </tr> <tr> <td>169</td> <td style=\"font-weight: bold; font-size:15px\">Sweden</td> <td style=\"font-weight: bold; text-align:right\"><a href=\"/world-population/sweden-population/\">10,099,265</a></td> <td style=\"text-align:right\">410,340</td> <td style=\"text-align:right\">25</td> </tr> <tr> <td>170</td> <td style=\"font-weight: bold; font-size:15px\">Switzerland</td> <td style=\"font-weight: bold; text-align:right\"><a href=\"/world-population/switzerland-population/\">8,654,622</a></td> <td style=\"text-align:right\">39,516</td> <td style=\"text-align:right\">219</td> </tr> <tr> <td>171</td> <td style=\"font-weight: bold; font-size:15px\">Syria</td> <td style=\"font-weight: bold; text-align:right\"><a href=\"/world-population/syria-population/\">17,500,658</a></td> <td style=\"text-align:right\">183,630</td> <td style=\"text-align:right\">95</td> </tr> <tr> <td>172</td> <td style=\"font-weight: bold; font-size:15px\">Tajikistan</td> <td style=\"font-weight: bold; text-align:right\"><a href=\"/world-population/tajikistan-population/\">9,537,645</a></td> <td style=\"text-align:right\">139,960</td> <td style=\"text-align:right\">68</td> </tr> <tr> <td>173</td> <td style=\"font-weight: bold; font-size:15px\">Tanzania</td> <td style=\"font-weight: bold; text-align:right\"><a href=\"/world-population/tanzania-population/\">59,734,218</a></td> <td style=\"text-align:right\">885,800</td> <td style=\"text-align:right\">67</td> </tr> <tr> <td>174</td> <td style=\"font-weight: bold; font-size:15px\">Thailand</td> <td style=\"font-weight: bold; text-align:right\"><a href=\"/world-population/thailand-population/\">69,799,978</a></td> <td style=\"text-align:right\">510,890</td> <td style=\"text-align:right\">137</td> </tr> <tr> <td>175</td> <td style=\"font-weight: bold; font-size:15px\">Timor-Leste</td> <td style=\"font-weight: bold; text-align:right\"><a href=\"/world-population/timor-leste-population/\">1,318,445</a></td> <td style=\"text-align:right\">14,870</td> <td style=\"text-align:right\">89</td> </tr> <tr> <td>176</td> <td style=\"font-weight: bold; font-size:15px\">Togo</td> <td style=\"font-weight: bold; text-align:right\"><a href=\"/world-population/togo-population/\">8,278,724</a></td> <td style=\"text-align:right\">54,390</td> <td style=\"text-align:right\">152</td> </tr> <tr> <td>177</td> <td style=\"font-weight: bold; font-size:15px\">Tonga</td> <td style=\"font-weight: bold; text-align:right\"><a href=\"/world-population/tonga-population/\">105,695</a></td> <td style=\"text-align:right\">720</td> <td style=\"text-align:right\">147</td> </tr> <tr> <td>178</td> <td style=\"font-weight: bold; font-size:15px\">Trinidad and Tobago</td> <td style=\"font-weight: bold; text-align:right\"><a href=\"/world-population/trinidad-and-tobago-population/\">1,399,488</a></td> <td style=\"text-align:right\">5,130</td> <td style=\"text-align:right\">273</td> </tr> <tr> <td>179</td> <td style=\"font-weight: bold; font-size:15px\">Tunisia</td> <td style=\"font-weight: bold; text-align:right\"><a href=\"/world-population/tunisia-population/\">11,818,619</a></td> <td style=\"text-align:right\">155,360</td> <td style=\"text-align:right\">76</td> </tr> <tr> <td>180</td> <td style=\"font-weight: bold; font-size:15px\">Turkey</td> <td style=\"font-weight: bold; text-align:right\"><a href=\"/world-population/turkey-population/\">84,339,067</a></td> <td style=\"text-align:right\">769,630</td> <td style=\"text-align:right\">110</td> </tr> <tr> <td>181</td> <td style=\"font-weight: bold; font-size:15px\">Turkmenistan</td> <td style=\"font-weight: bold; text-align:right\"><a href=\"/world-population/turkmenistan-population/\">6,031,200</a></td> <td style=\"text-align:right\">469,930</td> <td style=\"text-align:right\">13</td> </tr> <tr> <td>182</td> <td style=\"font-weight: bold; font-size:15px\">Tuvalu</td> <td style=\"font-weight: bold; text-align:right\"><a href=\"/world-population/tuvalu-population/\">11,792</a></td> <td style=\"text-align:right\">30</td> <td style=\"text-align:right\">393</td> </tr> <tr> <td>183</td> <td style=\"font-weight: bold; font-size:15px\">Uganda</td> <td style=\"font-weight: bold; text-align:right\"><a href=\"/world-population/uganda-population/\">45,741,007</a></td> <td style=\"text-align:right\">199,810</td> <td style=\"text-align:right\">229</td> </tr> <tr> <td>184</td> <td style=\"font-weight: bold; font-size:15px\">Ukraine</td> <td style=\"font-weight: bold; text-align:right\"><a href=\"/world-population/ukraine-population/\">43,733,762</a></td> <td style=\"text-align:right\">579,320</td> <td style=\"text-align:right\">75</td> </tr> <tr> <td>185</td> <td style=\"font-weight: bold; font-size:15px\">United Arab Emirates</td> <td style=\"font-weight: bold; text-align:right\"><a href=\"/world-population/united-arab-emirates-population/\">9,890,402</a></td> <td style=\"text-align:right\">83,600</td> <td style=\"text-align:right\">118</td> </tr> <tr> <td>186</td> <td style=\"font-weight: bold; font-size:15px\">United Kingdom</td> <td style=\"font-weight: bold; text-align:right\"><a href=\"/world-population/uk-population/\">67,886,011</a></td> <td style=\"text-align:right\">241,930</td> <td style=\"text-align:right\">281</td> </tr> <tr> <td>187</td> <td style=\"font-weight: bold; font-size:15px\">United States of America</td> <td style=\"font-weight: bold; text-align:right\"><a href=\"/world-population/us-population/\">331,002,651</a></td> <td style=\"text-align:right\">9,147,420</td> <td style=\"text-align:right\">36</td> </tr> <tr> <td>188</td> <td style=\"font-weight: bold; font-size:15px\">Uruguay</td> <td style=\"font-weight: bold; text-align:right\"><a href=\"/world-population/uruguay-population/\">3,473,730</a></td> <td style=\"text-align:right\">175,020</td> <td style=\"text-align:right\">20</td> </tr> <tr> <td>189</td> <td style=\"font-weight: bold; font-size:15px\">Uzbekistan</td> <td style=\"font-weight: bold; text-align:right\"><a href=\"/world-population/uzbekistan-population/\">33,469,203</a></td> <td style=\"text-align:right\">425,400</td> <td style=\"text-align:right\">79</td> </tr> <tr> <td>190</td> <td style=\"font-weight: bold; font-size:15px\">Vanuatu</td> <td style=\"font-weight: bold; text-align:right\"><a href=\"/world-population/vanuatu-population/\">307,145</a></td> <td style=\"text-align:right\">12,190</td> <td style=\"text-align:right\">25</td> </tr> <tr> <td>191</td> <td style=\"font-weight: bold; font-size:15px\">Venezuela</td> <td style=\"font-weight: bold; text-align:right\"><a href=\"/world-population/venezuela-population/\">28,435,940</a></td> <td style=\"text-align:right\">882,050</td> <td style=\"text-align:right\">32</td> </tr> <tr> <td>192</td> <td style=\"font-weight: bold; font-size:15px\">Vietnam</td> <td style=\"font-weight: bold; text-align:right\"><a href=\"/world-population/vietnam-population/\">97,338,579</a></td> <td style=\"text-align:right\">310,070</td> <td style=\"text-align:right\">314</td> </tr> <tr> <td>193</td> <td style=\"font-weight: bold; font-size:15px\">Yemen</td> <td style=\"font-weight: bold; text-align:right\"><a href=\"/world-population/yemen-population/\">29,825,964</a></td> <td style=\"text-align:right\">527,970</td> <td style=\"text-align:right\">56</td> </tr> <tr> <td>194</td> <td style=\"font-weight: bold; font-size:15px\">Zambia</td> <td style=\"font-weight: bold; text-align:right\"><a href=\"/world-population/zambia-population/\">18,383,955</a></td> <td style=\"text-align:right\">743,390</td> <td style=\"text-align:right\">25</td> </tr> <tr> <td>195</td> <td style=\"font-weight: bold; font-size:15px\">Zimbabwe</td> <td style=\"font-weight: bold; text-align:right\"><a href=\"/world-population/zimbabwe-population/\">14,862,924</a></td> <td style=\"text-align:right\">386,850</td> <td style=\"text-align:right\">38</td> </tr> </tbody> </table>]"
      ]
     },
     "execution_count": 23,
     "metadata": {},
     "output_type": "execute_result"
    }
   ],
   "source": [
    "table"
   ]
  },
  {
   "cell_type": "code",
   "execution_count": 29,
   "metadata": {},
   "outputs": [],
   "source": [
    "countries = table[0].find_all('tr')"
   ]
  },
  {
   "cell_type": "code",
   "execution_count": 30,
   "metadata": {},
   "outputs": [
    {
     "data": {
      "text/plain": [
       "196"
      ]
     },
     "execution_count": 30,
     "metadata": {},
     "output_type": "execute_result"
    }
   ],
   "source": [
    "len(countries)"
   ]
  },
  {
   "cell_type": "code",
   "execution_count": 34,
   "metadata": {},
   "outputs": [
    {
     "data": {
      "text/plain": [
       "['1', 'Afghanistan', '38,928,346', '652,860', '60']"
      ]
     },
     "execution_count": 34,
     "metadata": {},
     "output_type": "execute_result"
    }
   ],
   "source": [
    "countries[1].text.split()"
   ]
  },
  {
   "cell_type": "code",
   "execution_count": 35,
   "metadata": {},
   "outputs": [],
   "source": [
    "list = []\n",
    "for country in countries[1:]:\n",
    "    dict = {}\n",
    "    country_td = country.find_all(\"td\")\n",
    "    dict['S.No'] = country_td[0].text\n",
    "    dict['Country Name'] = country_td[1].text\n",
    "    dict['Population(2020)'] = country_td[2].text\n",
    "    dict['Land Area(Km²)'] = country_td[3].text\n",
    "    dict['Density(P/Km²)'] = country_td[4].text\n",
    "    \n",
    "    list.append(dict)"
   ]
  },
  {
   "cell_type": "code",
   "execution_count": 36,
   "metadata": {},
   "outputs": [],
   "source": [
    "import pandas as pd"
   ]
  },
  {
   "cell_type": "code",
   "execution_count": 40,
   "metadata": {},
   "outputs": [],
   "source": [
    "countries_list_DF = pd.DataFrame(list)"
   ]
  },
  {
   "cell_type": "code",
   "execution_count": 41,
   "metadata": {},
   "outputs": [
    {
     "data": {
      "text/html": [
       "<div>\n",
       "<style scoped>\n",
       "    .dataframe tbody tr th:only-of-type {\n",
       "        vertical-align: middle;\n",
       "    }\n",
       "\n",
       "    .dataframe tbody tr th {\n",
       "        vertical-align: top;\n",
       "    }\n",
       "\n",
       "    .dataframe thead th {\n",
       "        text-align: right;\n",
       "    }\n",
       "</style>\n",
       "<table border=\"1\" class=\"dataframe\">\n",
       "  <thead>\n",
       "    <tr style=\"text-align: right;\">\n",
       "      <th></th>\n",
       "      <th>S.No</th>\n",
       "      <th>Country Name</th>\n",
       "      <th>Population(2020)</th>\n",
       "      <th>Land Area(Km²)</th>\n",
       "      <th>Density(P/Km²)</th>\n",
       "    </tr>\n",
       "  </thead>\n",
       "  <tbody>\n",
       "    <tr>\n",
       "      <td>0</td>\n",
       "      <td>1</td>\n",
       "      <td>Afghanistan</td>\n",
       "      <td>38,928,346</td>\n",
       "      <td>652,860</td>\n",
       "      <td>60</td>\n",
       "    </tr>\n",
       "    <tr>\n",
       "      <td>1</td>\n",
       "      <td>2</td>\n",
       "      <td>Albania</td>\n",
       "      <td>2,877,797</td>\n",
       "      <td>27,400</td>\n",
       "      <td>105</td>\n",
       "    </tr>\n",
       "    <tr>\n",
       "      <td>2</td>\n",
       "      <td>3</td>\n",
       "      <td>Algeria</td>\n",
       "      <td>43,851,044</td>\n",
       "      <td>2,381,740</td>\n",
       "      <td>18</td>\n",
       "    </tr>\n",
       "    <tr>\n",
       "      <td>3</td>\n",
       "      <td>4</td>\n",
       "      <td>Andorra</td>\n",
       "      <td>77,265</td>\n",
       "      <td>470</td>\n",
       "      <td>164</td>\n",
       "    </tr>\n",
       "    <tr>\n",
       "      <td>4</td>\n",
       "      <td>5</td>\n",
       "      <td>Angola</td>\n",
       "      <td>32,866,272</td>\n",
       "      <td>1,246,700</td>\n",
       "      <td>26</td>\n",
       "    </tr>\n",
       "    <tr>\n",
       "      <td>...</td>\n",
       "      <td>...</td>\n",
       "      <td>...</td>\n",
       "      <td>...</td>\n",
       "      <td>...</td>\n",
       "      <td>...</td>\n",
       "    </tr>\n",
       "    <tr>\n",
       "      <td>190</td>\n",
       "      <td>191</td>\n",
       "      <td>Venezuela</td>\n",
       "      <td>28,435,940</td>\n",
       "      <td>882,050</td>\n",
       "      <td>32</td>\n",
       "    </tr>\n",
       "    <tr>\n",
       "      <td>191</td>\n",
       "      <td>192</td>\n",
       "      <td>Vietnam</td>\n",
       "      <td>97,338,579</td>\n",
       "      <td>310,070</td>\n",
       "      <td>314</td>\n",
       "    </tr>\n",
       "    <tr>\n",
       "      <td>192</td>\n",
       "      <td>193</td>\n",
       "      <td>Yemen</td>\n",
       "      <td>29,825,964</td>\n",
       "      <td>527,970</td>\n",
       "      <td>56</td>\n",
       "    </tr>\n",
       "    <tr>\n",
       "      <td>193</td>\n",
       "      <td>194</td>\n",
       "      <td>Zambia</td>\n",
       "      <td>18,383,955</td>\n",
       "      <td>743,390</td>\n",
       "      <td>25</td>\n",
       "    </tr>\n",
       "    <tr>\n",
       "      <td>194</td>\n",
       "      <td>195</td>\n",
       "      <td>Zimbabwe</td>\n",
       "      <td>14,862,924</td>\n",
       "      <td>386,850</td>\n",
       "      <td>38</td>\n",
       "    </tr>\n",
       "  </tbody>\n",
       "</table>\n",
       "<p>195 rows × 5 columns</p>\n",
       "</div>"
      ],
      "text/plain": [
       "    S.No Country Name Population(2020) Land Area(Km²) Density(P/Km²)\n",
       "0      1  Afghanistan       38,928,346        652,860             60\n",
       "1      2      Albania        2,877,797         27,400            105\n",
       "2      3      Algeria       43,851,044      2,381,740             18\n",
       "3      4      Andorra           77,265            470            164\n",
       "4      5       Angola       32,866,272      1,246,700             26\n",
       "..   ...          ...              ...            ...            ...\n",
       "190  191    Venezuela       28,435,940        882,050             32\n",
       "191  192      Vietnam       97,338,579        310,070            314\n",
       "192  193        Yemen       29,825,964        527,970             56\n",
       "193  194       Zambia       18,383,955        743,390             25\n",
       "194  195     Zimbabwe       14,862,924        386,850             38\n",
       "\n",
       "[195 rows x 5 columns]"
      ]
     },
     "execution_count": 41,
     "metadata": {},
     "output_type": "execute_result"
    }
   ],
   "source": [
    "countries_list_DF"
   ]
  },
  {
   "cell_type": "code",
   "execution_count": 44,
   "metadata": {},
   "outputs": [],
   "source": [
    "countries_list_DF.to_csv(\"List of Countires in world.csv\")"
   ]
  },
  {
   "cell_type": "code",
   "execution_count": null,
   "metadata": {},
   "outputs": [],
   "source": []
  }
 ],
 "metadata": {
  "kernelspec": {
   "display_name": "Python 3",
   "language": "python",
   "name": "python3"
  },
  "language_info": {
   "codemirror_mode": {
    "name": "ipython",
    "version": 3
   },
   "file_extension": ".py",
   "mimetype": "text/x-python",
   "name": "python",
   "nbconvert_exporter": "python",
   "pygments_lexer": "ipython3",
   "version": "3.7.4"
  }
 },
 "nbformat": 4,
 "nbformat_minor": 2
}
