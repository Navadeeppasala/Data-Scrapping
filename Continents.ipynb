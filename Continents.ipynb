{
 "cells": [
  {
   "cell_type": "code",
   "execution_count": 16,
   "metadata": {},
   "outputs": [],
   "source": [
    "import requests"
   ]
  },
  {
   "cell_type": "code",
   "execution_count": 17,
   "metadata": {},
   "outputs": [],
   "source": [
    "page = requests.get(\"https://www.worldometers.info/geography/7-continents/\")"
   ]
  },
  {
   "cell_type": "code",
   "execution_count": 18,
   "metadata": {},
   "outputs": [],
   "source": [
    "from bs4 import BeautifulSoup"
   ]
  },
  {
   "cell_type": "code",
   "execution_count": 19,
   "metadata": {},
   "outputs": [],
   "source": [
    "soup = BeautifulSoup(page.content,'html.parser')"
   ]
  },
  {
   "cell_type": "code",
   "execution_count": 32,
   "metadata": {},
   "outputs": [],
   "source": [
    "table = soup.find(class_ = 'table table-hover table-condensed')"
   ]
  },
  {
   "cell_type": "code",
   "execution_count": 33,
   "metadata": {},
   "outputs": [],
   "source": [
    "countrys = table.find_all('tr')\n"
   ]
  },
  {
   "cell_type": "code",
   "execution_count": 34,
   "metadata": {},
   "outputs": [
    {
     "data": {
      "text/plain": [
       "8"
      ]
     },
     "execution_count": 34,
     "metadata": {},
     "output_type": "execute_result"
    }
   ],
   "source": [
    "len(countrys)"
   ]
  },
  {
   "cell_type": "code",
   "execution_count": 56,
   "metadata": {},
   "outputs": [
    {
     "data": {
      "text/plain": [
       "['1', 'Asia', '4,641,054,775', '31,033,131', '150', '59.54%']"
      ]
     },
     "execution_count": 56,
     "metadata": {},
     "output_type": "execute_result"
    }
   ],
   "source": [
    "countrys[1].text.split()"
   ]
  },
  {
   "cell_type": "code",
   "execution_count": 68,
   "metadata": {},
   "outputs": [],
   "source": [
    "list = []\n",
    "for country in countrys[1:]:\n",
    "    dict = {}\n",
    "    country_td = country.find_all(\"td\")\n",
    "    dict['Rank'] = country_td[0].text\n",
    "    dict['Continent'] = country_td[1].text\n",
    "    dict['Population(2020)'] = country_td[2].text\n",
    "    dict['Area(Km²)'] = country_td[3].text\n",
    "    dict['Density(P/Km²)'] = country_td[4].text\n",
    "    dict['World Population Share'] = country_td[5].text\n",
    "    list.append(dict)"
   ]
  },
  {
   "cell_type": "code",
   "execution_count": 69,
   "metadata": {},
   "outputs": [],
   "source": [
    "import pandas as pd"
   ]
  },
  {
   "cell_type": "code",
   "execution_count": 72,
   "metadata": {},
   "outputs": [
    {
     "data": {
      "text/html": [
       "<div>\n",
       "<style scoped>\n",
       "    .dataframe tbody tr th:only-of-type {\n",
       "        vertical-align: middle;\n",
       "    }\n",
       "\n",
       "    .dataframe tbody tr th {\n",
       "        vertical-align: top;\n",
       "    }\n",
       "\n",
       "    .dataframe thead th {\n",
       "        text-align: right;\n",
       "    }\n",
       "</style>\n",
       "<table border=\"1\" class=\"dataframe\">\n",
       "  <thead>\n",
       "    <tr style=\"text-align: right;\">\n",
       "      <th></th>\n",
       "      <th>Rank</th>\n",
       "      <th>Continent</th>\n",
       "      <th>Population(2020)</th>\n",
       "      <th>Area(Km²)</th>\n",
       "      <th>Density(P/Km²)</th>\n",
       "      <th>World Population Share</th>\n",
       "    </tr>\n",
       "  </thead>\n",
       "  <tbody>\n",
       "    <tr>\n",
       "      <td>0</td>\n",
       "      <td>1</td>\n",
       "      <td>Asia</td>\n",
       "      <td>4,641,054,775</td>\n",
       "      <td>31,033,131</td>\n",
       "      <td>150</td>\n",
       "      <td>59.54%</td>\n",
       "    </tr>\n",
       "    <tr>\n",
       "      <td>1</td>\n",
       "      <td>2</td>\n",
       "      <td>Africa</td>\n",
       "      <td>1,340,598,147</td>\n",
       "      <td>29,648,481</td>\n",
       "      <td>45</td>\n",
       "      <td>17.20%</td>\n",
       "    </tr>\n",
       "    <tr>\n",
       "      <td>2</td>\n",
       "      <td>3</td>\n",
       "      <td>Europe</td>\n",
       "      <td>747,636,026</td>\n",
       "      <td>22,134,900</td>\n",
       "      <td>34</td>\n",
       "      <td>9.59%</td>\n",
       "    </tr>\n",
       "    <tr>\n",
       "      <td>3</td>\n",
       "      <td>4</td>\n",
       "      <td>North America</td>\n",
       "      <td>592,072,212</td>\n",
       "      <td>21,330,000</td>\n",
       "      <td>28</td>\n",
       "      <td>7.60%</td>\n",
       "    </tr>\n",
       "    <tr>\n",
       "      <td>4</td>\n",
       "      <td>5</td>\n",
       "      <td>South America</td>\n",
       "      <td>430,759,766</td>\n",
       "      <td>17,461,112</td>\n",
       "      <td>25</td>\n",
       "      <td>5.53%</td>\n",
       "    </tr>\n",
       "    <tr>\n",
       "      <td>5</td>\n",
       "      <td>6</td>\n",
       "      <td>Australia/Oceania</td>\n",
       "      <td>43,111,704</td>\n",
       "      <td>8,486,460</td>\n",
       "      <td>5</td>\n",
       "      <td>0.55%</td>\n",
       "    </tr>\n",
       "    <tr>\n",
       "      <td>6</td>\n",
       "      <td>7</td>\n",
       "      <td>Antarctica</td>\n",
       "      <td>0</td>\n",
       "      <td>13,720,000</td>\n",
       "      <td>0</td>\n",
       "      <td>0.00%</td>\n",
       "    </tr>\n",
       "  </tbody>\n",
       "</table>\n",
       "</div>"
      ],
      "text/plain": [
       "  Rank          Continent Population(2020)   Area(Km²) Density(P/Km²)  \\\n",
       "0    1               Asia    4,641,054,775  31,033,131            150   \n",
       "1    2             Africa    1,340,598,147  29,648,481             45   \n",
       "2    3             Europe      747,636,026  22,134,900             34   \n",
       "3    4      North America      592,072,212  21,330,000             28   \n",
       "4    5      South America      430,759,766  17,461,112             25   \n",
       "5    6  Australia/Oceania       43,111,704   8,486,460              5   \n",
       "6    7         Antarctica                0  13,720,000              0   \n",
       "\n",
       "  World Population Share  \n",
       "0                 59.54%  \n",
       "1                 17.20%  \n",
       "2                  9.59%  \n",
       "3                  7.60%  \n",
       "4                  5.53%  \n",
       "5                  0.55%  \n",
       "6                  0.00%  "
      ]
     },
     "execution_count": 72,
     "metadata": {},
     "output_type": "execute_result"
    }
   ],
   "source": [
    "Continent_DF = pd.DataFrame(list)\n",
    "Continent_DF"
   ]
  },
  {
   "cell_type": "code",
   "execution_count": 73,
   "metadata": {},
   "outputs": [],
   "source": [
    "Continent_DF.to_csv('Movies.csv')"
   ]
  },
  {
   "cell_type": "code",
   "execution_count": null,
   "metadata": {},
   "outputs": [],
   "source": []
  }
 ],
 "metadata": {
  "kernelspec": {
   "display_name": "Python 3",
   "language": "python",
   "name": "python3"
  },
  "language_info": {
   "codemirror_mode": {
    "name": "ipython",
    "version": 3
   },
   "file_extension": ".py",
   "mimetype": "text/x-python",
   "name": "python",
   "nbconvert_exporter": "python",
   "pygments_lexer": "ipython3",
   "version": "3.7.4"
  }
 },
 "nbformat": 4,
 "nbformat_minor": 2
}
