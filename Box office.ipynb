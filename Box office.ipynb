{
 "cells": [
  {
   "cell_type": "code",
   "execution_count": 2,
   "metadata": {},
   "outputs": [],
   "source": [
    "import requests\n",
    "from bs4 import BeautifulSoup\n",
    "import pandas as pd"
   ]
  },
  {
   "cell_type": "code",
   "execution_count": 4,
   "metadata": {},
   "outputs": [],
   "source": [
    "page = requests.get('https://en.wikipedia.org/wiki/List_of_Telugu_films_of_2020')"
   ]
  },
  {
   "cell_type": "code",
   "execution_count": 7,
   "metadata": {},
   "outputs": [],
   "source": [
    "soup = BeautifulSoup(page.content,\"html.parser\")"
   ]
  },
  {
   "cell_type": "code",
   "execution_count": 9,
   "metadata": {},
   "outputs": [],
   "source": [
    "table = soup.find(class_ = \"wikitable sortable\")"
   ]
  },
  {
   "cell_type": "code",
   "execution_count": 11,
   "metadata": {},
   "outputs": [],
   "source": [
    "telugu_movies = table.find_all('tr')"
   ]
  },
  {
   "cell_type": "code",
   "execution_count": 12,
   "metadata": {},
   "outputs": [
    {
     "data": {
      "text/plain": [
       "11"
      ]
     },
     "execution_count": 12,
     "metadata": {},
     "output_type": "execute_result"
    }
   ],
   "source": [
    "len(telugu_movies)"
   ]
  },
  {
   "cell_type": "code",
   "execution_count": 71,
   "metadata": {},
   "outputs": [
    {
     "data": {
      "text/plain": [
       "'\\n1\\n\\nAla Vaikunthapurramuloo\\n\\nHaarika & Hassini CreationsGeetha Arts\\n\\n₹262 crore (US$37\\xa0million)\\n\\n[2]\\n'"
      ]
     },
     "execution_count": 71,
     "metadata": {},
     "output_type": "execute_result"
    }
   ],
   "source": [
    "telugu_movies[1].text"
   ]
  },
  {
   "cell_type": "code",
   "execution_count": 41,
   "metadata": {},
   "outputs": [
    {
     "data": {
      "text/plain": [
       "['1',\n",
       " 'Ala Vaikunthapurramuloo',\n",
       " 'Haarika & Hassini CreationsGeetha Arts',\n",
       " '₹262 crore (US$37\\xa0million)',\n",
       " '[2]']"
      ]
     },
     "execution_count": 41,
     "metadata": {},
     "output_type": "execute_result"
    }
   ],
   "source": [
    "telugu_movies[1].text.strip().split('\\n\\n')"
   ]
  },
  {
   "cell_type": "code",
   "execution_count": 61,
   "metadata": {},
   "outputs": [],
   "source": [
    "list = []\n",
    "for movie in telugu_movies[1:]:\n",
    "    dict = {}\n",
    "    movie_td = movie.find_all(\"td\")\n",
    "    movie_th = movie.find_all(\"th\")\n",
    "    dict['Rank'] = movie_th[0].text[:-1]\n",
    "    dict['Title'] = movie_td[0].text[:-1]\n",
    "    dict['Production Company'] = movie_td[1].text[:-1]\n",
    "    dict['Worldwide Gross'] = movie_td[2].text[:-1]\n",
    "    #dict['Ref'] = movie_td[3].text[:-1]\n",
    "    list.append(dict)"
   ]
  },
  {
   "cell_type": "code",
   "execution_count": 62,
   "metadata": {},
   "outputs": [
    {
     "data": {
      "text/html": [
       "<div>\n",
       "<style scoped>\n",
       "    .dataframe tbody tr th:only-of-type {\n",
       "        vertical-align: middle;\n",
       "    }\n",
       "\n",
       "    .dataframe tbody tr th {\n",
       "        vertical-align: top;\n",
       "    }\n",
       "\n",
       "    .dataframe thead th {\n",
       "        text-align: right;\n",
       "    }\n",
       "</style>\n",
       "<table border=\"1\" class=\"dataframe\">\n",
       "  <thead>\n",
       "    <tr style=\"text-align: right;\">\n",
       "      <th></th>\n",
       "      <th>Rank</th>\n",
       "      <th>Title</th>\n",
       "      <th>Production Company</th>\n",
       "      <th>Worldwide Gross</th>\n",
       "    </tr>\n",
       "  </thead>\n",
       "  <tbody>\n",
       "    <tr>\n",
       "      <td>0</td>\n",
       "      <td>1</td>\n",
       "      <td>Ala Vaikunthapurramuloo</td>\n",
       "      <td>Haarika &amp; Hassini CreationsGeetha Arts</td>\n",
       "      <td>₹262 crore (US$37 million)</td>\n",
       "    </tr>\n",
       "    <tr>\n",
       "      <td>1</td>\n",
       "      <td>2</td>\n",
       "      <td>Sarileru Neekevaru</td>\n",
       "      <td>AK EntertainmentsSri Venkateswara CreationsG. ...</td>\n",
       "      <td>₹260 crore (US$36 million)</td>\n",
       "    </tr>\n",
       "    <tr>\n",
       "      <td>2</td>\n",
       "      <td>3</td>\n",
       "      <td>Bheeshma</td>\n",
       "      <td>Sithara Entertainments</td>\n",
       "      <td>₹40.3 crore (US$5.7 million)</td>\n",
       "    </tr>\n",
       "    <tr>\n",
       "      <td>3</td>\n",
       "      <td>4</td>\n",
       "      <td>Disco Raja</td>\n",
       "      <td>SRT Entertainment</td>\n",
       "      <td>₹23 crore (US$3.2 million)</td>\n",
       "    </tr>\n",
       "    <tr>\n",
       "      <td>4</td>\n",
       "      <td>5</td>\n",
       "      <td>World Famous Lover</td>\n",
       "      <td>Creative Commercials</td>\n",
       "      <td>₹19 crore (US$2.7 million)</td>\n",
       "    </tr>\n",
       "    <tr>\n",
       "      <td>5</td>\n",
       "      <td>6</td>\n",
       "      <td>Solo Brathuke So Better</td>\n",
       "      <td>Sri Venkateswara Cine Chitra</td>\n",
       "      <td>₹17.7 crore (US$2.5 million)</td>\n",
       "    </tr>\n",
       "    <tr>\n",
       "      <td>6</td>\n",
       "      <td>7</td>\n",
       "      <td>Aswathama</td>\n",
       "      <td>Ira Creations</td>\n",
       "      <td>₹13.65 crore (US$1.9 million)</td>\n",
       "    </tr>\n",
       "    <tr>\n",
       "      <td>7</td>\n",
       "      <td>8</td>\n",
       "      <td>Jaanu</td>\n",
       "      <td>Sri Venkateshwara Creations</td>\n",
       "      <td>₹12.57 crore (US$1.8 million)</td>\n",
       "    </tr>\n",
       "    <tr>\n",
       "      <td>8</td>\n",
       "      <td>9</td>\n",
       "      <td>Entha Manchivadavuraa</td>\n",
       "      <td>Aditya Music</td>\n",
       "      <td>₹11.3 crore (US$1.6 million)</td>\n",
       "    </tr>\n",
       "    <tr>\n",
       "      <td>9</td>\n",
       "      <td>10</td>\n",
       "      <td>HIT: The First Case</td>\n",
       "      <td>Wall Poster Cinema</td>\n",
       "      <td>₹8.5 crore (US$1.2 million)</td>\n",
       "    </tr>\n",
       "  </tbody>\n",
       "</table>\n",
       "</div>"
      ],
      "text/plain": [
       "  Rank                    Title  \\\n",
       "0    1  Ala Vaikunthapurramuloo   \n",
       "1    2       Sarileru Neekevaru   \n",
       "2    3                 Bheeshma   \n",
       "3    4               Disco Raja   \n",
       "4    5       World Famous Lover   \n",
       "5    6  Solo Brathuke So Better   \n",
       "6    7                Aswathama   \n",
       "7    8                    Jaanu   \n",
       "8    9    Entha Manchivadavuraa   \n",
       "9   10      HIT: The First Case   \n",
       "\n",
       "                                  Production Company  \\\n",
       "0             Haarika & Hassini CreationsGeetha Arts   \n",
       "1  AK EntertainmentsSri Venkateswara CreationsG. ...   \n",
       "2                             Sithara Entertainments   \n",
       "3                                  SRT Entertainment   \n",
       "4                               Creative Commercials   \n",
       "5                       Sri Venkateswara Cine Chitra   \n",
       "6                                      Ira Creations   \n",
       "7                        Sri Venkateshwara Creations   \n",
       "8                                       Aditya Music   \n",
       "9                                 Wall Poster Cinema   \n",
       "\n",
       "                 Worldwide Gross  \n",
       "0     ₹262 crore (US$37 million)  \n",
       "1     ₹260 crore (US$36 million)  \n",
       "2   ₹40.3 crore (US$5.7 million)  \n",
       "3     ₹23 crore (US$3.2 million)  \n",
       "4     ₹19 crore (US$2.7 million)  \n",
       "5   ₹17.7 crore (US$2.5 million)  \n",
       "6  ₹13.65 crore (US$1.9 million)  \n",
       "7  ₹12.57 crore (US$1.8 million)  \n",
       "8   ₹11.3 crore (US$1.6 million)  \n",
       "9    ₹8.5 crore (US$1.2 million)  "
      ]
     },
     "execution_count": 62,
     "metadata": {},
     "output_type": "execute_result"
    }
   ],
   "source": [
    "pd.DataFrame(list)"
   ]
  },
  {
   "cell_type": "code",
   "execution_count": null,
   "metadata": {},
   "outputs": [],
   "source": []
  }
 ],
 "metadata": {
  "kernelspec": {
   "display_name": "Python 3",
   "language": "python",
   "name": "python3"
  },
  "language_info": {
   "codemirror_mode": {
    "name": "ipython",
    "version": 3
   },
   "file_extension": ".py",
   "mimetype": "text/x-python",
   "name": "python",
   "nbconvert_exporter": "python",
   "pygments_lexer": "ipython3",
   "version": "3.7.4"
  }
 },
 "nbformat": 4,
 "nbformat_minor": 2
}
